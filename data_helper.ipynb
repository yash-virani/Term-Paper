{
 "cells": [
  {
   "cell_type": "code",
   "execution_count": 3,
   "source": [
    "import pandas as pd"
   ],
   "outputs": [],
   "metadata": {}
  },
  {
   "cell_type": "code",
   "execution_count": 22,
   "source": [
    "# Combining results\r\n",
    "path = r'C:\\Users\\User\\Documents\\GitHub\\EWMOD\\Term-Paper\\Results'\r\n",
    "Time_steps = 8760\r\n",
    "scenario_list = [[False, \"Base\", 1, 0, Time_steps], #1\r\n",
    "                [True, \"Base\", 1, 0, Time_steps], #2\r\n",
    "                [True, \"Minus_50\", 1 ,0, Time_steps], #3\r\n",
    "                [True, \"Atomkraft_Nein_Danke\", 1, 0, Time_steps], #4\r\n",
    "                [True, \"Mixed_FR_PL_exept\", 1, 0, Time_steps], #5\r\n",
    "                ]\r\n",
    "df = pd.DataFrame(columns={'2030_renewables','scenario','storage','ntc_fac','obj_value'})\r\n",
    "for ntc_fac in [1.0,0.8,1.2]:\r\n",
    "        for sto_fac in [0.0,0.5,1.0,3.0]:\r\n",
    "            for scen in scenario_list:\r\n",
    "                if scen[0]:\r\n",
    "                    year = 2030\r\n",
    "                else:\r\n",
    "                    year = 2015\r\n",
    "                scen[3] = ntc_fac\r\n",
    "                scen[4] = sto_fac\r\n",
    "               \r\n",
    "                name_scen = f\"{scen[0]}_{scen[1]}_{ntc_fac}_{sto_fac}\"\r\n",
    "                path_scen_obj = f\"{path}/{name_scen}_objective_value.csv\"\r\n",
    "                obj = pd.read_csv(path_scen_obj).iloc[0,0]\r\n",
    "                df = df.append(pd.DataFrame(data={'2030_renewables':[scen[0]],'scenario':[scen[1]],'storage':[sto_fac],'ntc_fac':[ntc_fac], 'obj_value':[obj]}))\r\n",
    "                \r\n",
    "df.to_csv(f'{path}/complete_objective_values.csv',index=False)"
   ],
   "outputs": [],
   "metadata": {}
  },
  {
   "cell_type": "code",
   "execution_count": 12,
   "source": [
    "obj = pd.read_csv(f'{path}/true_Base_1.0_0.5_objective_value.csv')\r\n",
    "type(obj)"
   ],
   "outputs": [
    {
     "output_type": "execute_result",
     "data": {
      "text/plain": [
       "numpy.float64"
      ]
     },
     "metadata": {},
     "execution_count": 12
    }
   ],
   "metadata": {}
  }
 ],
 "metadata": {
  "orig_nbformat": 4,
  "language_info": {
   "name": "python",
   "version": "3.8.3",
   "mimetype": "text/x-python",
   "codemirror_mode": {
    "name": "ipython",
    "version": 3
   },
   "pygments_lexer": "ipython3",
   "nbconvert_exporter": "python",
   "file_extension": ".py"
  },
  "kernelspec": {
   "name": "python3",
   "display_name": "Python 3.8.3 64-bit ('base': conda)"
  },
  "interpreter": {
   "hash": "8fac594bfae6525c0c41b4041d2d72effa188cc8ead05f81b1fab2bb098927fb"
  }
 },
 "nbformat": 4,
 "nbformat_minor": 2
}